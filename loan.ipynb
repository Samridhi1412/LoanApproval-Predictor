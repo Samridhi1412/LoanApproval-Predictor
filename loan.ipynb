{
 "cells": [
  {
   "cell_type": "code",
   "execution_count": null,
   "metadata": {},
   "outputs": [],
   "source": [
    "import pandas as pd\n",
    "import numpy as np\n",
    "from sklearn.model_selection import train_test_split\n",
    "from sklearn.preprocessing import StandardScaler"
   ]
  },
  {
   "cell_type": "code",
   "execution_count": null,
   "metadata": {},
   "outputs": [],
   "source": [
    "data=pd.read_csv('loan_data_set.csv')\n",
    "print(data.head())"
   ]
  },
  {
   "cell_type": "code",
   "execution_count": 119,
   "metadata": {},
   "outputs": [
    {
     "name": "stdout",
     "output_type": "stream",
     "text": [
      "no of rows are  614\n",
      "no of columns are 13\n"
     ]
    }
   ],
   "source": [
    "num_rows,num_col=data.shape\n",
    "print(\"no of rows are \", num_rows)\n",
    "print(\"no of columns are\",num_col)"
   ]
  },
  {
   "cell_type": "code",
   "execution_count": null,
   "metadata": {},
   "outputs": [],
   "source": [
    "data.isnull().sum()\n"
   ]
  },
  {
   "cell_type": "code",
   "execution_count": null,
   "metadata": {},
   "outputs": [],
   "source": [
    "data['Gender'].value_counts()\n",
    "data['LoanAmount'].value_counts()\n",
    "data['Loan_Amount_Term'].value_counts()\n",
    "data['Married'].value_counts()\n",
    "\n"
   ]
  },
  {
   "cell_type": "code",
   "execution_count": null,
   "metadata": {},
   "outputs": [],
   "source": [
    "data['Gender']=data['Gender'].fillna('Male')\n",
    "data['LoanAmount']=data['LoanAmount'].fillna('100')\n",
    "data['Loan_Amount_Term']=data['Loan_Amount_Term'].fillna('360.0')\n",
    "data['Married']=data['Married'].fillna('Yes')\n",
    "\n"
   ]
  },
  {
   "cell_type": "code",
   "execution_count": null,
   "metadata": {},
   "outputs": [],
   "source": [
    "data.replace({'Gender' : {'Male': 0,'Female' : 1 }}, inplace= True)\n",
    "data.replace({'Married' : {'Yes' : 0, 'No' : 1}}, inplace=True)\n",
    "data.replace({'Loan_Status' : {'Y' : 0, 'N' : 1}}, inplace=True)\n",
    "\n"
   ]
  },
  {
   "cell_type": "code",
   "execution_count": null,
   "metadata": {},
   "outputs": [],
   "source": [
    "data.head()"
   ]
  },
  {
   "cell_type": "code",
   "execution_count": null,
   "metadata": {},
   "outputs": [],
   "source": [
    "y=data['Loan_Status']\n",
    "print(y)"
   ]
  },
  {
   "cell_type": "code",
   "execution_count": null,
   "metadata": {},
   "outputs": [],
   "source": [
    "selected_columns = ['Gender', 'Married', 'ApplicantIncome', 'CoapplicantIncome' ,'LoanAmount' ,'Loan_Amount_Term']\n",
    "x = data[selected_columns]\n",
    "print(x)"
   ]
  },
  {
   "cell_type": "code",
   "execution_count": null,
   "metadata": {},
   "outputs": [],
   "source": [
    "x_train, x_test, y_train, y_test = train_test_split(x, y, test_size=0.2, random_state=42)"
   ]
  },
  {
   "cell_type": "code",
   "execution_count": null,
   "metadata": {},
   "outputs": [],
   "source": [
    "scaler = StandardScaler()\n",
    "x_train_scaled = scaler.fit_transform(x_train)\n",
    "x_test_scaled = scaler.transform(x_test)"
   ]
  },
  {
   "cell_type": "code",
   "execution_count": null,
   "metadata": {},
   "outputs": [],
   "source": [
    "y_train_numpy = y_train.values\n",
    "y_test_numpy = y_test.values\n",
    "num_rows,num_cols = x.shape\n",
    "print(num_rows)\n",
    "print(num_cols)"
   ]
  },
  {
   "cell_type": "code",
   "execution_count": 120,
   "metadata": {},
   "outputs": [
    {
     "name": "stdout",
     "output_type": "stream",
     "text": [
      "Epoch 0, Loss 0.15173116089613034\n",
      "Epoch 10, Loss 0.14434291523260478\n",
      "Epoch 20, Loss 0.1387860526158276\n",
      "Epoch 30, Loss 0.1346503691943949\n",
      "Epoch 40, Loss 0.13161464408139695\n",
      "Epoch 50, Loss 0.12942742686152428\n",
      "Epoch 60, Loss 0.12789201161704783\n",
      "Epoch 70, Loss 0.12685466965617742\n",
      "Epoch 80, Loss 0.12619542312472762\n",
      "Epoch 90, Loss 0.1258208030513299\n"
     ]
    }
   ],
   "source": [
    "def predict(x):\n",
    "    global w,b\n",
    "    return np.dot(x,w)+b\n",
    "\n",
    "def cost_function(y_target,y_pred,lam):\n",
    "    global w,b\n",
    "    m=y_target.shape[0]\n",
    "    cost=0\n",
    "    for i in range(m):\n",
    "        diff=(y_pred[i]-y_target[i])**2\n",
    "        cost+=diff\n",
    "    n=np.size(w)\n",
    "    r_cost=0\n",
    "    for i in range(n):\n",
    "        r_cost+=(w[i]**2)\n",
    "    total_cost=(1/(2*m))*(cost+lam*r_cost)\n",
    "    return total_cost\n",
    "\n",
    "def grad_decsend(x,y_target,y_pred,learn_rate,lam):\n",
    "    global w,b\n",
    "    error=y_pred-y_target\n",
    "    m=y_pred.shape[0]\n",
    "    grad=(1/m)*(np.dot(x.T,error)+lam)\n",
    "    w-=learn_rate*grad\n",
    "    b-=learn_rate*np.mean(error)\n",
    "\n",
    "learn_rate=0.01\n",
    "epochs=100\n",
    "w = np.zeros(num_cols)\n",
    "b = 0\n",
    "lam=50\n",
    "for epoch in range(epochs):\n",
    "    y_pred=predict(x_train_scaled)\n",
    "    loss=cost_function(y_train_numpy,y_pred,lam)\n",
    "    grad_decsend(x_train_scaled,y_train_numpy,y_pred,learn_rate,lam)\n",
    "    if epoch%10==0:\n",
    "        print(f'Epoch {epoch}, Loss {loss}')"
   ]
  },
  {
   "cell_type": "code",
   "execution_count": 121,
   "metadata": {},
   "outputs": [
    {
     "name": "stdout",
     "output_type": "stream",
     "text": [
      "[-0.06068479 -0.02701461 -0.05250584 -0.04883096 -0.04067942 -0.05754967]\n",
      "0.1923852976584293\n"
     ]
    }
   ],
   "source": [
    "print(w)\n",
    "print(b)"
   ]
  },
  {
   "cell_type": "code",
   "execution_count": 118,
   "metadata": {},
   "outputs": [
    {
     "name": "stdout",
     "output_type": "stream",
     "text": [
      "Prediction Result: No ! Sorry Loan Disapproved.\n"
     ]
    },
    {
     "name": "stderr",
     "output_type": "stream",
     "text": [
      "c:\\Users\\KIIT\\AppData\\Local\\Programs\\Python\\Python312\\Lib\\site-packages\\sklearn\\base.py:493: UserWarning: X does not have valid feature names, but StandardScaler was fitted with feature names\n",
      "  warnings.warn(\n"
     ]
    }
   ],
   "source": [
    "sample = np.array([0, 1, 5940, 0.0, 100, 360.0])\n",
    "sample_2 = sample.reshape(1, -1)  \n",
    "sample_3= scaler.transform(sample_2)\n",
    "prediction_result = predict(sample_3)\n",
    "prediction_label = \"Yes ! Loan Approved.\" if prediction_result == 1 else \"No ! Sorry Loan Disapproved.\"\n",
    "print(\"Prediction Result:\", prediction_label)"
   ]
  }
 ],
 "metadata": {
  "kernelspec": {
   "display_name": "Python 3",
   "language": "python",
   "name": "python3"
  },
  "language_info": {
   "codemirror_mode": {
    "name": "ipython",
    "version": 3
   },
   "file_extension": ".py",
   "mimetype": "text/x-python",
   "name": "python",
   "nbconvert_exporter": "python",
   "pygments_lexer": "ipython3",
   "version": "3.12.2"
  }
 },
 "nbformat": 4,
 "nbformat_minor": 2
}
